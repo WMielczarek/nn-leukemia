{
 "cells": [
  {
   "cell_type": "markdown",
   "metadata": {},
   "source": [
    "length = n_layers - 2# Klasyfikacja białaczek - sieć neuronowa"
   ]
  },
  {
   "cell_type": "markdown",
   "metadata": {},
   "source": [
    "## Importy"
   ]
  },
  {
   "cell_type": "code",
   "execution_count": 12,
   "metadata": {},
   "outputs": [],
   "source": [
    "from itertools import product\n",
    "import warnings\n",
    "\n",
    "import pandas as pd\n",
    "from sklearn.feature_selection import SelectKBest, chi2, f_classif\n",
    "from sklearn.model_selection import train_test_split\n",
    "from sklearn.neural_network import MLPClassifier\n",
    "from sklearn.metrics import classification_report, confusion_matrix\n",
    "from sklearn.preprocessing import OneHotEncoder\n",
    "from sklearn.model_selection import RepeatedStratifiedKFold"
   ]
  },
  {
   "cell_type": "markdown",
   "metadata": {},
   "source": [
    "## Ładowanie danych\n",
    "`X` to macierz danych wejściwowych, `y` to wektor oczekiwanych diagnoz."
   ]
  },
  {
   "cell_type": "code",
   "execution_count": 13,
   "metadata": {},
   "outputs": [],
   "source": [
    "def load_dataset(filename):\n",
    "    data = pd.read_csv(filename)\n",
    "    X = data.iloc[:, :-1]\n",
    "    y = data.iloc[:, -1]\n",
    "    return X, y\n",
    "X, y = load_dataset(\"data.csv\")"
   ]
  },
  {
   "cell_type": "markdown",
   "metadata": {},
   "source": [
    "## Selekcja cech"
   ]
  },
  {
   "cell_type": "markdown",
   "metadata": {},
   "source": [
    "Ranking cech za pomocą współczynnika korelacji Pearsona $\\chi^2$."
   ]
  },
  {
   "cell_type": "code",
   "execution_count": 14,
   "metadata": {
    "scrolled": false
   },
   "outputs": [
    {
     "data": {
      "text/html": [
       "<div>\n",
       "<style scoped>\n",
       "    .dataframe tbody tr th:only-of-type {\n",
       "        vertical-align: middle;\n",
       "    }\n",
       "\n",
       "    .dataframe tbody tr th {\n",
       "        vertical-align: top;\n",
       "    }\n",
       "\n",
       "    .dataframe thead th {\n",
       "        text-align: right;\n",
       "    }\n",
       "</style>\n",
       "<table border=\"1\" class=\"dataframe\">\n",
       "  <thead>\n",
       "    <tr style=\"text-align: right;\">\n",
       "      <th></th>\n",
       "      <th>symptom</th>\n",
       "      <th>score</th>\n",
       "    </tr>\n",
       "  </thead>\n",
       "  <tbody>\n",
       "    <tr>\n",
       "      <th>3</th>\n",
       "      <td>bleed_p</td>\n",
       "      <td>112.952047</td>\n",
       "    </tr>\n",
       "    <tr>\n",
       "      <th>16</th>\n",
       "      <td>marrow</td>\n",
       "      <td>61.046859</td>\n",
       "    </tr>\n",
       "    <tr>\n",
       "      <th>18</th>\n",
       "      <td>limf</td>\n",
       "      <td>55.064338</td>\n",
       "    </tr>\n",
       "    <tr>\n",
       "      <th>1</th>\n",
       "      <td>anem</td>\n",
       "      <td>52.168346</td>\n",
       "    </tr>\n",
       "    <tr>\n",
       "      <th>13</th>\n",
       "      <td>rbc</td>\n",
       "      <td>50.004024</td>\n",
       "    </tr>\n",
       "    <tr>\n",
       "      <th>17</th>\n",
       "      <td>marrow_c</td>\n",
       "      <td>41.962909</td>\n",
       "    </tr>\n",
       "    <tr>\n",
       "      <th>11</th>\n",
       "      <td>eyeball</td>\n",
       "      <td>19.597693</td>\n",
       "    </tr>\n",
       "    <tr>\n",
       "      <th>14</th>\n",
       "      <td>plt</td>\n",
       "      <td>14.883925</td>\n",
       "    </tr>\n",
       "    <tr>\n",
       "      <th>5</th>\n",
       "      <td>sternum</td>\n",
       "      <td>11.920742</td>\n",
       "    </tr>\n",
       "    <tr>\n",
       "      <th>9</th>\n",
       "      <td>testes</td>\n",
       "      <td>11.062851</td>\n",
       "    </tr>\n",
       "    <tr>\n",
       "      <th>19</th>\n",
       "      <td>reaction</td>\n",
       "      <td>10.667800</td>\n",
       "    </tr>\n",
       "    <tr>\n",
       "      <th>12</th>\n",
       "      <td>wbc</td>\n",
       "      <td>10.667800</td>\n",
       "    </tr>\n",
       "    <tr>\n",
       "      <th>10</th>\n",
       "      <td>heart</td>\n",
       "      <td>8.301076</td>\n",
       "    </tr>\n",
       "    <tr>\n",
       "      <th>4</th>\n",
       "      <td>bones</td>\n",
       "      <td>8.078569</td>\n",
       "    </tr>\n",
       "    <tr>\n",
       "      <th>6</th>\n",
       "      <td>nodes</td>\n",
       "      <td>8.003709</td>\n",
       "    </tr>\n",
       "    <tr>\n",
       "      <th>15</th>\n",
       "      <td>blast</td>\n",
       "      <td>7.794623</td>\n",
       "    </tr>\n",
       "    <tr>\n",
       "      <th>8</th>\n",
       "      <td>cns</td>\n",
       "      <td>7.077800</td>\n",
       "    </tr>\n",
       "    <tr>\n",
       "      <th>7</th>\n",
       "      <td>liver</td>\n",
       "      <td>5.867934</td>\n",
       "    </tr>\n",
       "    <tr>\n",
       "      <th>2</th>\n",
       "      <td>bleed_i</td>\n",
       "      <td>3.735104</td>\n",
       "    </tr>\n",
       "    <tr>\n",
       "      <th>0</th>\n",
       "      <td>temp</td>\n",
       "      <td>1.762313</td>\n",
       "    </tr>\n",
       "  </tbody>\n",
       "</table>\n",
       "</div>"
      ],
      "text/plain": [
       "     symptom       score\n",
       "3    bleed_p  112.952047\n",
       "16    marrow   61.046859\n",
       "18      limf   55.064338\n",
       "1       anem   52.168346\n",
       "13       rbc   50.004024\n",
       "17  marrow_c   41.962909\n",
       "11   eyeball   19.597693\n",
       "14       plt   14.883925\n",
       "5    sternum   11.920742\n",
       "9     testes   11.062851\n",
       "19  reaction   10.667800\n",
       "12       wbc   10.667800\n",
       "10     heart    8.301076\n",
       "4      bones    8.078569\n",
       "6      nodes    8.003709\n",
       "15     blast    7.794623\n",
       "8        cns    7.077800\n",
       "7      liver    5.867934\n",
       "2    bleed_i    3.735104\n",
       "0       temp    1.762313"
      ]
     },
     "execution_count": 14,
     "metadata": {},
     "output_type": "execute_result"
    }
   ],
   "source": [
    "def rank(X, y):\n",
    "    best_selector = SelectKBest(score_func=chi2, k=len(X.columns))\n",
    "    fit = best_selector.fit(X, y)\n",
    "    dfscores = pd.DataFrame(fit.scores_)\n",
    "    dfcolumns = pd.DataFrame(X.columns)\n",
    "    ranking = pd.concat([dfcolumns, dfscores], axis=1)\n",
    "    ranking.columns = [\"symptom\", \"score\"]\n",
    "    return ranking.sort_values(by=[\"score\"], ascending=False)\n",
    "feature_ranking = rank(X, y)\n",
    "feature_ranking_names = feature_ranking[\"symptom\"].to_list()\n",
    "feature_ranking"
   ]
  },
  {
   "cell_type": "markdown",
   "metadata": {},
   "source": [
    "## Klasyfikacja"
   ]
  },
  {
   "cell_type": "markdown",
   "metadata": {
    "pycharm": {
     "name": "#%% md\n"
    }
   },
   "source": [
    "Kodowanie dyskretnych zmiennych jako wektory binarne. Nasze zmienne mają przypisane wartości liczbowe mimo, że nie ma między innymi liniowej zależności. To znaczy krwawienie w miejscu oznaczonym jako 1 nie jest \"bliższe\" krwawieniu oznaczonemu jako 2 niż temu oznaczonemu jako 4. Aby mieć pewność, że sieć nie podchwyci nieistniejących zależności tego typu zmienne koduje się jako wektory binarne."
   ]
  },
  {
   "cell_type": "code",
   "execution_count": 15,
   "metadata": {
    "pycharm": {
     "name": "#%%\n"
    }
   },
   "outputs": [],
   "source": [
    "def encode_inputs(X):\n",
    "    ohe = OneHotEncoder(handle_unknown=\"ignore\")\n",
    "    return ohe.fit_transform(X)"
   ]
  },
  {
   "cell_type": "markdown",
   "metadata": {
    "pycharm": {
     "name": "#%% md\n"
    }
   },
   "source": [
    "Funckja do trenowania sieci korzystająca z RepeatedStratifiedKFold, oraz spełniająca wymagania projektowe co do testowania sieci."
   ]
  },
  {
   "cell_type": "code",
   "execution_count": 16,
   "metadata": {
    "pycharm": {
     "name": "#%%\n"
    }
   },
   "outputs": [],
   "source": [
    "def classify_kfold(X, y, hidden_layer_size, num_iteration, momentum):\n",
    "    scores = []\n",
    "    \n",
    "    mlp = MLPClassifier(\n",
    "        hidden_layer_sizes=(hidden_layer_size,),\n",
    "        solver=\"sgd\",\n",
    "        max_iter= num_iteration,\n",
    "        momentum=momentum,\n",
    "        nesterovs_momentum=True\n",
    "    )\n",
    "\n",
    "    rkf = RepeatedStratifiedKFold(2, 5, random_state=42)\n",
    "    \n",
    "    for index_train, index_test in rkf.split(X, y):\n",
    "        X_train, X_test = X[index_train], X[index_test]\n",
    "        y_train, y_test = y[index_train], y[index_test]\n",
    "\n",
    "        mlp.fit(X_train, y_train)\n",
    "        score = mlp.score(X_test, y_test)\n",
    "        scores.append(score)\n",
    "\n",
    "    return sum(scores) / len(scores)"
   ]
  },
  {
   "cell_type": "markdown",
   "metadata": {},
   "source": [
    "## Testowanie"
   ]
  },
  {
   "cell_type": "markdown",
   "metadata": {
    "pycharm": {
     "name": "#%% md\n"
    }
   },
   "source": [
    "Testujemy sieć korzystając z funkcji `classify_kfold` dla zadeklarowanych wartości parametrów: wielkość wartswy ukrytej, wartość momentum, ilość cech."
   ]
  },
  {
   "cell_type": "code",
   "execution_count": null,
   "metadata": {
    "pycharm": {
     "name": "#%%\n"
    }
   },
   "outputs": [],
   "source": [
    "hidden_layer_sizes = [100, 200, 300]\n",
    "momentums = [0, 1]\n",
    "feature_numbers = range(1, 21, 1)\n",
    "num_iteration = 1000\n",
    "\n",
    "results = pd.DataFrame(columns=[\"hidden_layer_size\", \"num_features\", \"momentum\", \"score\"])\n",
    "\n",
    "for size, features, momentum in product(hidden_layer_sizes, feature_numbers, momentums):\n",
    "    X_fit = X[feature_ranking_names[:features]]\n",
    "    X_encoded = encode_inputs(X_fit)\n",
    "    with warnings.catch_warnings():\n",
    "        warnings.simplefilter(\"ignore\")\n",
    "        score = classify_kfold(X_encoded, y, size, num_iteration, momentum)\n",
    "    results.loc[len(results)] = (size, features, momentum, score)\n",
    "    \n",
    "results.to_csv(\"results.csv\")\n",
    "results"
   ]
  },
  {
   "cell_type": "markdown",
   "metadata": {
    "pycharm": {
     "name": "#%% md\n"
    }
   },
   "source": [
    "## Podsumowanie"
   ]
  },
  {
   "cell_type": "markdown",
   "metadata": {},
   "source": [
    "Z badań wynika, że optymlna ilość cech to 18 a rozmiar warstwy ukrytej to 300, oraz że wykorzystanie momentum wpływa korzystanie na uzyskane wyniki. Uruchamiamy więc sieć z optymalnymi paramterami i prezentujemy podsumowanie dokładności oraz macierz konfuzji."
   ]
  },
  {
   "cell_type": "code",
   "execution_count": 17,
   "metadata": {},
   "outputs": [
    {
     "name": "stdout",
     "output_type": "stream",
     "text": [
      "              precision    recall  f1-score   support\n",
      "\n",
      "           1       0.00      0.00      0.00         6\n",
      "           2       0.00      0.00      0.00         5\n",
      "           3       0.00      0.00      0.00         7\n",
      "           4       0.18      0.50      0.27         4\n",
      "           5       0.24      0.67      0.35         6\n",
      "           6       0.00      0.00      0.00         4\n",
      "           7       0.50      0.33      0.40         6\n",
      "           8       0.29      0.40      0.33         5\n",
      "           9       0.50      0.29      0.36         7\n",
      "          10       0.00      0.00      0.00         4\n",
      "          11       0.18      0.33      0.24         6\n",
      "          12       0.20      0.20      0.20         5\n",
      "          13       0.10      0.25      0.14         4\n",
      "          14       0.23      0.43      0.30         7\n",
      "          15       0.00      0.00      0.00         4\n",
      "          16       0.00      0.00      0.00         4\n",
      "          17       0.00      0.00      0.00         4\n",
      "          18       0.00      0.00      0.00         5\n",
      "          19       0.19      0.50      0.27         6\n",
      "          20       0.00      0.00      0.00         4\n",
      "\n",
      "    accuracy                           0.21       103\n",
      "   macro avg       0.13      0.19      0.14       103\n",
      "weighted avg       0.15      0.21      0.16       103\n",
      "\n",
      "[[0 0 0 1 4 0 0 0 1 0 0 0 0 0 0 0 0 0 0 0]\n",
      " [0 0 0 2 3 0 0 0 0 0 0 0 0 0 0 0 0 0 0 0]\n",
      " [1 0 0 3 2 0 0 0 0 0 0 1 0 0 0 0 0 0 0 0]\n",
      " [0 0 0 2 1 0 0 0 0 0 1 0 0 0 0 0 0 0 0 0]\n",
      " [0 0 0 0 4 0 0 0 0 0 0 0 0 0 0 0 0 0 2 0]\n",
      " [0 0 0 0 0 0 1 2 0 0 0 0 0 1 0 0 0 0 0 0]\n",
      " [0 0 0 0 0 0 2 3 0 0 0 0 0 1 0 0 0 0 0 0]\n",
      " [0 0 0 0 0 0 0 2 0 0 0 0 0 1 0 0 0 0 2 0]\n",
      " [0 0 0 0 0 1 1 0 2 0 0 0 0 2 1 0 0 0 0 0]\n",
      " [0 0 0 1 0 0 0 0 0 0 1 0 1 0 0 0 0 0 1 0]\n",
      " [0 0 0 0 0 0 0 0 0 0 2 1 0 2 0 0 0 0 1 0]\n",
      " [0 0 0 0 0 0 0 0 0 0 2 1 2 0 0 0 0 0 0 0]\n",
      " [0 0 0 0 0 0 0 0 0 0 0 0 1 0 1 0 0 0 2 0]\n",
      " [0 0 0 0 0 0 0 0 0 0 0 1 3 3 0 0 0 0 0 0]\n",
      " [0 0 0 1 0 0 0 0 0 0 0 0 2 1 0 0 0 0 0 0]\n",
      " [0 0 0 0 0 0 0 0 0 0 2 0 0 1 0 0 0 0 1 0]\n",
      " [0 0 0 0 0 0 0 0 1 0 2 0 0 0 0 0 0 0 1 0]\n",
      " [1 0 0 0 2 0 0 0 0 0 0 0 1 0 0 0 0 0 1 0]\n",
      " [0 0 0 0 0 0 0 0 0 0 1 1 0 1 0 0 0 0 3 0]\n",
      " [0 0 0 1 1 0 0 0 0 0 0 0 0 0 0 0 0 0 2 0]]\n"
     ]
    },
    {
     "name": "stderr",
     "output_type": "stream",
     "text": [
      "c:\\users\\wojtek\\projects\\leukemia-nn\\venv\\lib\\site-packages\\sklearn\\metrics\\_classification.py:1272: UndefinedMetricWarning: Precision and F-score are ill-defined and being set to 0.0 in labels with no predicted samples. Use `zero_division` parameter to control this behavior.\n",
      "  _warn_prf(average, modifier, msg_start, len(result))\n"
     ]
    }
   ],
   "source": [
    "X_fit = X[feature_ranking_names[:18]]\n",
    "X_encoded = encode_inputs(X_fit)\n",
    "X_train, X_test, y_train, y_test = train_test_split(X_encoded, y, stratify=y)\n",
    "\n",
    "mlp = MLPClassifier(\n",
    "    hidden_layer_sizes=(5 - 2, 300,),\n",
    "    solver=\"sgd\",\n",
    "    max_iter=1000,\n",
    "    momentum=1,\n",
    "    nesterovs_momentum=True,\n",
    ")\n",
    "mlp.fit(X_train, y_train)\n",
    "predictions = mlp.predict(X_test)\n",
    "print(classification_report(y_test, predictions))\n",
    "print(confusion_matrix(y_test, predictions))"
   ]
  },
  {
   "cell_type": "code",
   "execution_count": null,
   "metadata": {
    "pycharm": {
     "name": "#%%\n"
    }
   },
   "outputs": [],
   "source": []
  },
  {
   "cell_type": "code",
   "execution_count": null,
   "metadata": {
    "pycharm": {
     "name": "#%%\n"
    }
   },
   "outputs": [],
   "source": []
  },
  {
   "cell_type": "code",
   "execution_count": null,
   "metadata": {},
   "outputs": [],
   "source": []
  }
 ],
 "metadata": {
  "kernelspec": {
   "display_name": "Python 3",
   "language": "python",
   "name": "python3"
  },
  "language_info": {
   "codemirror_mode": {
    "name": "ipython",
    "version": 3
   },
   "file_extension": ".py",
   "mimetype": "text/x-python",
   "name": "python",
   "nbconvert_exporter": "python",
   "pygments_lexer": "ipython3",
   "version": "3.8.2"
  }
 },
 "nbformat": 4,
 "nbformat_minor": 2
}